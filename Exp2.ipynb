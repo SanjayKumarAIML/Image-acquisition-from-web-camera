{
 "cells": [
  {
   "cell_type": "code",
   "execution_count": 6,
   "id": "dda344fa-4dc0-43fe-9ab5-65ad7e94960a",
   "metadata": {},
   "outputs": [],
   "source": [
    "import cv2\n",
    "import numpy as np"
   ]
  },
  {
   "cell_type": "code",
   "execution_count": 3,
   "id": "41262337-d6f4-471a-bb8f-c393775da3a9",
   "metadata": {},
   "outputs": [],
   "source": [
    "obj = cv2.VideoCapture(0)\n",
    "while(True):\n",
    "    cap,frame = obj.read()\n",
    "    cv2.imshow('video_image.jpg',frame)\n",
    "    cv2.imwrite(\"out.jpg\",frame)\n",
    "    if cv2.waitKey(1) == ord('q'):\n",
    "        break\n",
    "obj.release()\n",
    "cv2.destroyAllWindows()"
   ]
  },
  {
   "cell_type": "code",
   "execution_count": 4,
   "id": "24e00034-a2b1-4cbf-8bee-581503e15312",
   "metadata": {},
   "outputs": [],
   "source": [
    "obj = cv2.VideoCapture(0)\n",
    "while(True):\n",
    "    cap,frame = obj.read()\n",
    "    cv2.imshow('video_image',frame)\n",
    "    if cv2.waitKey(1) == ord('q'):\n",
    "        break\n",
    "obj.release()\n",
    "cv2.destroyAllWindows()"
   ]
  },
  {
   "cell_type": "code",
   "execution_count": 7,
   "id": "022c3349-d580-49c0-8e78-996fa461c094",
   "metadata": {},
   "outputs": [],
   "source": [
    "obj = cv2.VideoCapture(0)\n",
    "while True:\n",
    "    cap, frame = obj.read()\n",
    "    h = int(obj.get(4))\n",
    "    w = int(obj.get(3))\n",
    "    sm_frame = cv2.resize(frame, (0,0), fx=0.5 , fy=0.5)\n",
    "    im = np.ones(frame.shape,np.uint8)*200\n",
    "    im[125:(h//2)+125,135:(w//2)+135] = sm_frame\n",
    "    cv2.imshow(\"Pic\",im)\n",
    "    if cv2.waitKey(1) == ord('q'):\n",
    "        break\n",
    "obj.release()\n",
    "cv2.destroyAllWindows()"
   ]
  },
  {
   "cell_type": "code",
   "execution_count": 11,
   "id": "dbab4f77-5ddd-408f-a885-7178cad89932",
   "metadata": {},
   "outputs": [],
   "source": [
    "obj = cv2.VideoCapture(0)\n",
    "\n",
    "while True:\n",
    "    cap, frame = obj.read()\n",
    "    height = int(obj.get(4))\n",
    "    width = int(obj.get(3))\n",
    "        \n",
    "    im = np.ones(frame.shape,np.uint8)*185\n",
    "    sf = cv2.resize(frame, (0,0), fx=0.5 , fy=0.5)\n",
    "    #+/- 80\n",
    "    im[75:(height//2)+155, 35:(width//2)-45]=cv2.rotate(sf,cv2.ROTATE_90_CLOCKWISE)\n",
    "    im[:height//2, width//2:]=sf\n",
    "    im[height//2:, width//2:]=cv2.rotate(sf,cv2.ROTATE_180)\n",
    "    \n",
    "    cv2.imshow(\"Pic\",im)\n",
    "    cv2.imwrite(\"rotate_quadrant.jpg\",im)\n",
    "    if cv2.waitKey(1) == ord('q'):\n",
    "        break\n",
    "obj.release()\n",
    "cv2.destroyAllWindows()"
   ]
  },
  {
   "cell_type": "code",
   "execution_count": null,
   "id": "f69d97fb-ecd0-4bab-a2dc-493c5a9c3812",
   "metadata": {},
   "outputs": [],
   "source": []
  }
 ],
 "metadata": {
  "kernelspec": {
   "display_name": "Python 3 (ipykernel)",
   "language": "python",
   "name": "python3"
  },
  "language_info": {
   "codemirror_mode": {
    "name": "ipython",
    "version": 3
   },
   "file_extension": ".py",
   "mimetype": "text/x-python",
   "name": "python",
   "nbconvert_exporter": "python",
   "pygments_lexer": "ipython3",
   "version": "3.9.13"
  }
 },
 "nbformat": 4,
 "nbformat_minor": 5
}
